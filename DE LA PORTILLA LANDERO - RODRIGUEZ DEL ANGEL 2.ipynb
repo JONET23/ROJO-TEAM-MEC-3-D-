{
 "cells": [
  {
   "cell_type": "markdown",
   "metadata": {},
   "source": [
    "EXERCISE #14"
   ]
  },
  {
   "cell_type": "code",
   "execution_count": 6,
   "metadata": {},
   "outputs": [
    {
     "name": "stdout",
     "output_type": "stream",
     "text": [
      "Hi -f, I'm the C:\\Users\\JONET\\Anaconda3\\lib\\site-packages\\ipykernel_launcher.py script.\n",
      "I'd like to ask you a few questions.\n",
      "Do you like me -f?\n",
      "> yes\n",
      "Where do you live -f?\n",
      "> altamira\n",
      "What kind of computer do you have?\n",
      "> gamer\n",
      "\n",
      " Alright, so you said yes about liking me.\n",
      " You live in altamira. Not sure where that is.\n",
      " And you have a gamer computer. Nice.\n",
      " \n"
     ]
    }
   ],
   "source": [
    "from sys import argv\n",
    "\n",
    "script, user_name, roman = argv\n",
    "prompt = '> '\n",
    "\n",
    "print(f\"Hi {user_name}, I'm the {script} script.\")\n",
    "print(\"I'd like to ask you a few questions.\")\n",
    "print(f\"Do you like me {user_name}?\")\n",
    "likes = input(prompt)\n",
    "\n",
    "print(f\"Where do you live {user_name}?\")\n",
    "lives = input(prompt)\n",
    "\n",
    "print(\"What kind of computer do you have?\")\n",
    "computer = input(prompt)\n",
    "\n",
    "print(f\"\"\"\n",
    " Alright, so you said {likes} about liking me.\n",
    " You live in {lives}. Not sure where that is.\n",
    " And you have a {computer} computer. Nice.\n",
    " \"\"\")\n"
   ]
  },
  {
   "cell_type": "code",
   "execution_count": null,
   "metadata": {},
   "outputs": [],
   "source": []
  }
 ],
 "metadata": {
  "kernelspec": {
   "display_name": "Python 3",
   "language": "python",
   "name": "python3"
  },
  "language_info": {
   "codemirror_mode": {
    "name": "ipython",
    "version": 3
   },
   "file_extension": ".py",
   "mimetype": "text/x-python",
   "name": "python",
   "nbconvert_exporter": "python",
   "pygments_lexer": "ipython3",
   "version": "3.7.3"
  }
 },
 "nbformat": 4,
 "nbformat_minor": 2
}
