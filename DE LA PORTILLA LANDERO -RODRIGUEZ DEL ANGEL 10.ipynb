{
 "cells": [
  {
   "cell_type": "markdown",
   "metadata": {},
   "source": [
    "EXERCISE #40"
   ]
  },
  {
   "cell_type": "code",
   "execution_count": null,
   "metadata": {},
   "outputs": [],
   "source": [
    "class Song(object):\n",
    "\n",
    "    def _init_(self, lyrics):\n",
    "        self.lyrics = lyrics\n",
    "\n",
    "    def sing_me_a_song(self):\n",
    "        for line in self.lyrics:\n",
    "            print(line)\n",
    "\n",
    "bad_bunny = Song([\"She wasn't like that\", \n",
    "                  \"she wasn't like that\",\n",
    "                  \"I don't know who hurt her\",\n",
    "                  \"She wasn't like that\",  \n",
    "                  \"she wasn't like that\",\n",
    "                  \"I don't know who hurt her\"])\n",
    "\n",
    "bad_bunny.sing_me_a_song()\n",
    "\n",
    "print(\"\\nThat was a certain part of my favorite song.\")"
   ]
  }
 ],
 "metadata": {
  "kernelspec": {
   "display_name": "Python 3",
   "language": "python",
   "name": "python3"
  },
  "language_info": {
   "codemirror_mode": {
    "name": "ipython",
    "version": 3
   },
   "file_extension": ".py",
   "mimetype": "text/x-python",
   "name": "python",
   "nbconvert_exporter": "python",
   "pygments_lexer": "ipython3",
   "version": "3.7.3"
  }
 },
 "nbformat": 4,
 "nbformat_minor": 2
}
