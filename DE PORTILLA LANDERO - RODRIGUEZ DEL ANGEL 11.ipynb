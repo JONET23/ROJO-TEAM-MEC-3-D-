{
 "cells": [
  {
   "cell_type": "markdown",
   "metadata": {},
   "source": [
    "EXERCISE #41"
   ]
  },
  {
   "cell_type": "code",
   "execution_count": 8,
   "metadata": {},
   "outputs": [
    {
     "ename": "IndentationError",
     "evalue": "unindent does not match any outer indentation level (<tokenize>, line 51)",
     "output_type": "error",
     "traceback": [
      "\u001b[1;36m  File \u001b[1;32m\"<tokenize>\"\u001b[1;36m, line \u001b[1;32m51\u001b[0m\n\u001b[1;33m    for word in class_names:\u001b[0m\n\u001b[1;37m    ^\u001b[0m\n\u001b[1;31mIndentationError\u001b[0m\u001b[1;31m:\u001b[0m unindent does not match any outer indentation level\n"
     ]
    }
   ],
   "source": [
    "import random\n",
    "from urllib.request import urlopen\n",
    "import sys\n",
    "\n",
    "WORD_URL = \"http://learncodethehardway.org/words.txt\"\n",
    " WORDS = []\n",
    "\n",
    "PHRASES = {\n",
    " \"class %%%(%%%):\":\n",
    " \"Make a class named %%% that is-a %%%.\",\n",
    " \"class %%%(object):\\n\\tdef __init__(self, ***)\" :\n",
    " \"class %%% has-a __init__ that takes self and *** params.\",\n",
    " \"class %%%(object):\\n\\tdef ***(self, @@@)\":\n",
    " \"class %%% has-a function *** that takes self and @@@ params.\",\n",
    " \"*** = %%%()\":\n",
    " \"Set *** to an instance of class %%%.\",\n",
    " \"***.***(@@@)\":\n",
    " \"From *** get the *** function, call it with params self, @@@.\",\n",
    " \"***.*** = '***'\":\n",
    " \"From *** get the *** attribute and set it to '***'.\"\n",
    " }\n",
    "\n",
    " # do they want to drill phrases first\n",
    "     if len(sys.argv) == 2 and sys.argv[1] == \"english\":\n",
    "        PHRASE_FIRST = True\n",
    "        else:\n",
    "        PHRASE_FIRST = False\n",
    "\n",
    " # load up the words from the website\n",
    "for word in urlopen(WORD_URL).readlines():\n",
    "WORDS.append(str(word.strip(), encoding=\"utf-8\"))\n",
    "\n",
    "\n",
    " def convert(snippet, phrase):\n",
    "class_names = [w.capitalize() for w in\n",
    "LEARNING TO SPEAK OBJECT-ORIENTED 189\n",
    " random.sample(WORDS, snippet.count(\"%%%\"))]\n",
    " other_names = random.sample(WORDS, snippet.count(\"***\"))\n",
    "results = []\n",
    " param_names = []\n",
    "\n",
    "for i in range(0, snippet.count(\"@@@\")):\n",
    "    param_count = random.randint(1,3)\n",
    "param_names.append(', '.join(\n",
    " random.sample(WORDS, param_count)))\n",
    "\n",
    "for sentence in snippet, phrase:\n",
    "     result = sentence[:]\n",
    "\n",
    " # fake class names\n",
    " for word in class_names:\n",
    "result = result.replace(\"%%%\", word, 1)\n",
    "\n",
    " # fake other names\n",
    "for word in other_names:\n",
    "result = result.replace(\"***\", word, 1)\n",
    "\n",
    " # fake parameter lists\n",
    "for word in param_names:\n",
    "     result = result.replace(\"@@@\", word, 1)\n",
    "\n",
    "results.append(result)\n",
    "\n",
    " return results\n",
    "\n",
    "\n",
    " # keep going until they hit CTRL-D\n",
    "try:\n",
    "while True:\n",
    "     snippets = list(PHRASES.keys())\n",
    "random.shuffle(snippets)\n",
    "\n",
    " for snippet in snippets:\n",
    "phrase = PHRASES[snippet]\n",
    " question, answer = convert(snippet, phrase)\n",
    "if PHRASE_FIRST:\n",
    "question, answer = answer, question\n",
    "\n",
    " print(question)\n",
    "\n",
    "    input(\"> \")\n",
    "print(f\"ANSWER: {answer}\\n\\n\")\n",
    " except EOFError:\n",
    "print(\"\\nBye\")\n"
   ]
  },
  {
   "cell_type": "code",
   "execution_count": null,
   "metadata": {},
   "outputs": [],
   "source": []
  }
 ],
 "metadata": {
  "kernelspec": {
   "display_name": "Python 3",
   "language": "python",
   "name": "python3"
  },
  "language_info": {
   "codemirror_mode": {
    "name": "ipython",
    "version": 3
   },
   "file_extension": ".py",
   "mimetype": "text/x-python",
   "name": "python",
   "nbconvert_exporter": "python",
   "pygments_lexer": "ipython3",
   "version": "3.7.3"
  }
 },
 "nbformat": 4,
 "nbformat_minor": 2
}
